{
 "cells": [
  {
   "cell_type": "code",
   "execution_count": 3,
   "metadata": {},
   "outputs": [
    {
     "name": "stdout",
     "output_type": "stream",
     "text": [
      "Stored 'ws' (WebSocketApp)\n"
     ]
    }
   ],
   "source": [
    "import websocket\n",
    "import random\n",
    "\n",
    "WEBSOCKET_URL = \"ws://localhost:8080/ws\"\n",
    "\n",
    "def on_open():\n",
    "    print(\"Connessione WebSocket aperta\")\n",
    "    pass\n",
    "\n",
    "ws = websocket.WebSocketApp(WEBSOCKET_URL, on_open=on_open)\n",
    "\n",
    "# Avvia la connessione WebSocket in un thread separato\n",
    "ws.run_forever()\n",
    "%store ws\n"
   ]
  },
  {
   "cell_type": "code",
   "execution_count": null,
   "metadata": {},
   "outputs": [
    {
     "name": "stdout",
     "output_type": "stream",
     "text": [
      "Stored 'ws' (WebSocketApp)\n"
     ]
    }
   ],
   "source": [
    "import websocket\n",
    "import random\n",
    "\n",
    "WEBSOCKET_URL = \"ws://localhost:8080/ws\"\n",
    "\n",
    "def on_open():\n",
    "    print(\"Connessione WebSocket aperta\")\n",
    "    pass\n",
    "\n",
    "ws = websocket.WebSocketApp(WEBSOCKET_URL, on_open=on_open)\n",
    "\n",
    "# Avvia la connessione WebSocket in un thread separato\n",
    "ws.run_forever()\n",
    "%store ws\n"
   ]
  },
  {
   "cell_type": "code",
   "execution_count": null,
   "metadata": {},
   "outputs": [
    {
     "name": "stdout",
     "output_type": "stream",
     "text": [
      "Stored 'ws' (WebSocketApp)\n"
     ]
    }
   ],
   "source": [
    "import websocket\n",
    "import random\n",
    "\n",
    "WEBSOCKET_URL = \"ws://localhost:8080/ws\"\n",
    "\n",
    "def on_open():\n",
    "    print(\"Connessione WebSocket aperta\")\n",
    "    pass\n",
    "\n",
    "ws = websocket.WebSocketApp(WEBSOCKET_URL, on_open=on_open)\n",
    "\n",
    "# Avvia la connessione WebSocket in un thread separato\n",
    "ws.run_forever()\n",
    "%store ws\n"
   ]
  },
  {
   "cell_type": "code",
   "execution_count": null,
   "metadata": {},
   "outputs": [
    {
     "ename": "WebSocketConnectionClosedException",
     "evalue": "Connection is already closed.",
     "output_type": "error",
     "traceback": [
      "\u001b[0;31m---------------------------------------------------------------------------\u001b[0m",
      "\u001b[0;31mWebSocketConnectionClosedException\u001b[0m        Traceback (most recent call last)",
      "\u001b[1;32m/home/ciz/Scrivania/Works/super-tictactoe/server/pytest/pytest1.ipynb Cella 2\u001b[0m line \u001b[0;36m6\n\u001b[1;32m      <a href='vscode-notebook-cell:/home/ciz/Scrivania/Works/super-tictactoe/server/pytest/pytest1.ipynb#W1sZmlsZQ%3D%3D?line=0'>1</a>\u001b[0m \u001b[39m# register user\u001b[39;00m\n\u001b[1;32m      <a href='vscode-notebook-cell:/home/ciz/Scrivania/Works/super-tictactoe/server/pytest/pytest1.ipynb#W1sZmlsZQ%3D%3D?line=1'>2</a>\u001b[0m message \u001b[39m=\u001b[39m {\n\u001b[1;32m      <a href='vscode-notebook-cell:/home/ciz/Scrivania/Works/super-tictactoe/server/pytest/pytest1.ipynb#W1sZmlsZQ%3D%3D?line=2'>3</a>\u001b[0m     \u001b[39m\"\u001b[39m\u001b[39mtype\u001b[39m\u001b[39m\"\u001b[39m: \u001b[39m\"\u001b[39m\u001b[39mregister\u001b[39m\u001b[39m\"\u001b[39m,\n\u001b[1;32m      <a href='vscode-notebook-cell:/home/ciz/Scrivania/Works/super-tictactoe/server/pytest/pytest1.ipynb#W1sZmlsZQ%3D%3D?line=3'>4</a>\u001b[0m     \u001b[39m\"\u001b[39m\u001b[39mmessage\u001b[39m\u001b[39m\"\u001b[39m: \u001b[39m\"\u001b[39m\u001b[39mtestuser\u001b[39m\u001b[39m\"\u001b[39m \u001b[39m+\u001b[39m \u001b[39mstr\u001b[39m(random\u001b[39m.\u001b[39mrandint(\u001b[39m1\u001b[39m, \u001b[39m1000\u001b[39m))\n\u001b[1;32m      <a href='vscode-notebook-cell:/home/ciz/Scrivania/Works/super-tictactoe/server/pytest/pytest1.ipynb#W1sZmlsZQ%3D%3D?line=4'>5</a>\u001b[0m }\n\u001b[0;32m----> <a href='vscode-notebook-cell:/home/ciz/Scrivania/Works/super-tictactoe/server/pytest/pytest1.ipynb#W1sZmlsZQ%3D%3D?line=5'>6</a>\u001b[0m ws\u001b[39m.\u001b[39;49msend(\u001b[39mstr\u001b[39;49m(message))\n\u001b[1;32m      <a href='vscode-notebook-cell:/home/ciz/Scrivania/Works/super-tictactoe/server/pytest/pytest1.ipynb#W1sZmlsZQ%3D%3D?line=6'>7</a>\u001b[0m \u001b[39mprint\u001b[39m(\u001b[39mf\u001b[39m\u001b[39m\"\u001b[39m\u001b[39mInviato: \u001b[39m\u001b[39m{\u001b[39;00mmessage\u001b[39m}\u001b[39;00m\u001b[39m\"\u001b[39m)\n",
      "File \u001b[0;32m/usr/lib/python3/dist-packages/websocket/_app.py:190\u001b[0m, in \u001b[0;36mWebSocketApp.send\u001b[0;34m(self, data, opcode)\u001b[0m\n\u001b[1;32m    177\u001b[0m \u001b[39m\"\"\"\u001b[39;00m\n\u001b[1;32m    178\u001b[0m \u001b[39msend message\u001b[39;00m\n\u001b[1;32m    179\u001b[0m \n\u001b[0;32m   (...)\u001b[0m\n\u001b[1;32m    186\u001b[0m \u001b[39m    Operation code of data. Default is OPCODE_TEXT.\u001b[39;00m\n\u001b[1;32m    187\u001b[0m \u001b[39m\"\"\"\u001b[39;00m\n\u001b[1;32m    189\u001b[0m \u001b[39mif\u001b[39;00m \u001b[39mnot\u001b[39;00m \u001b[39mself\u001b[39m\u001b[39m.\u001b[39msock \u001b[39mor\u001b[39;00m \u001b[39mself\u001b[39m\u001b[39m.\u001b[39msock\u001b[39m.\u001b[39msend(data, opcode) \u001b[39m==\u001b[39m \u001b[39m0\u001b[39m:\n\u001b[0;32m--> 190\u001b[0m     \u001b[39mraise\u001b[39;00m WebSocketConnectionClosedException(\n\u001b[1;32m    191\u001b[0m         \u001b[39m\"\u001b[39m\u001b[39mConnection is already closed.\u001b[39m\u001b[39m\"\u001b[39m)\n",
      "\u001b[0;31mWebSocketConnectionClosedException\u001b[0m: Connection is already closed."
     ]
    }
   ],
   "source": []
  }
 ],
 "metadata": {
  "kernelspec": {
   "display_name": "Python 3",
   "language": "python",
   "name": "python3"
  },
  "language_info": {
   "codemirror_mode": {
    "name": "ipython",
    "version": 3
   },
   "file_extension": ".py",
   "mimetype": "text/x-python",
   "name": "python",
   "nbconvert_exporter": "python",
   "pygments_lexer": "ipython3",
   "version": "3.10.12"
  },
  "orig_nbformat": 4
 },
 "nbformat": 4,
 "nbformat_minor": 2
}
